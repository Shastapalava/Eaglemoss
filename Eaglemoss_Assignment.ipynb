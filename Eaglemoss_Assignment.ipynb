{
 "cells": [
  {
   "cell_type": "markdown",
   "id": "140a9d2b",
   "metadata": {},
   "source": [
    "Loading the file and creatinf data frame"
   ]
  },
  {
   "cell_type": "code",
   "execution_count": 1,
   "id": "de216bb6",
   "metadata": {},
   "outputs": [],
   "source": [
    "%matplotlib inline\n",
    "\n",
    "import pandas as pd\n",
    "import seaborn as sb\n",
    "import numpy as np\n",
    "import statsmodels.api as sm\n",
    "from sklearn.linear_model import LogisticRegression\n",
    "from sklearn import preprocessing\n",
    "import matplotlib.pyplot as plt\n",
    "from statsmodels.stats.outliers_influence import variance_inflation_factor\n",
    "from sklearn.metrics import classification_report\n",
    "from sklearn.metrics import roc_curve, confusion_matrix"
   ]
  },
  {
   "cell_type": "code",
   "execution_count": 2,
   "id": "7f3b22c5",
   "metadata": {},
   "outputs": [
    {
     "name": "stderr",
     "output_type": "stream",
     "text": [
      "C:\\Users\\anzhali\\Anaconda3\\lib\\site-packages\\IPython\\core\\interactiveshell.py:3444: DtypeWarning: Columns (14,20,32) have mixed types.Specify dtype option on import or set low_memory=False.\n",
      "  exec(code_obj, self.user_global_ns, self.user_ns)\n"
     ]
    },
    {
     "name": "stdout",
     "output_type": "stream",
     "text": [
      "(35052, 33)\n",
      "['Subscription ID', 'Collection', 'Source', 'Offer', 'Status', 'Order Date', 'Last Ship Date', '# Shipments', '# SKUs Shipped', '$ Shipped', '# Returned', '$ Paid', '$ Adjustments', '$ Due', 'Upsell', 'Frequency', 'Dun Level', 'Last Payment', 'Payment Type', 'AutoBill', 'Last Statement', 'Cancel Date', 'Cancel Reason', 'Chargeback', '# Declined', 'Intro $', 'Intro S&H $', 'Quantity', 'Back Ordered', 'State', ' ', 'Unnamed: 31', 'Unnamed: 32']\n"
     ]
    },
    {
     "data": {
      "text/html": [
       "<div>\n",
       "<style scoped>\n",
       "    .dataframe tbody tr th:only-of-type {\n",
       "        vertical-align: middle;\n",
       "    }\n",
       "\n",
       "    .dataframe tbody tr th {\n",
       "        vertical-align: top;\n",
       "    }\n",
       "\n",
       "    .dataframe thead th {\n",
       "        text-align: right;\n",
       "    }\n",
       "</style>\n",
       "<table border=\"1\" class=\"dataframe\">\n",
       "  <thead>\n",
       "    <tr style=\"text-align: right;\">\n",
       "      <th></th>\n",
       "      <th>9089</th>\n",
       "      <th>34016</th>\n",
       "      <th>1049</th>\n",
       "      <th>10257</th>\n",
       "      <th>10948</th>\n",
       "    </tr>\n",
       "  </thead>\n",
       "  <tbody>\n",
       "    <tr>\n",
       "      <th>Subscription ID</th>\n",
       "      <td>26581600001</td>\n",
       "      <td>37562270001</td>\n",
       "      <td>10985490001</td>\n",
       "      <td>27266390001</td>\n",
       "      <td>27765480501</td>\n",
       "    </tr>\n",
       "    <tr>\n",
       "      <th>Collection</th>\n",
       "      <td>Star Trek Starships</td>\n",
       "      <td>Star Trek Starships</td>\n",
       "      <td>Star Trek Starships</td>\n",
       "      <td>Star Trek Starships</td>\n",
       "      <td>Star Trek Starships</td>\n",
       "    </tr>\n",
       "    <tr>\n",
       "      <th>Source</th>\n",
       "      <td>ST022FBR8AN</td>\n",
       "      <td>ST052FBD0</td>\n",
       "      <td>ST001CCK0AN</td>\n",
       "      <td>ST011WPFGAN</td>\n",
       "      <td>ST510WPIEAN</td>\n",
       "    </tr>\n",
       "    <tr>\n",
       "      <th>Offer</th>\n",
       "      <td>ST022</td>\n",
       "      <td>ST052</td>\n",
       "      <td>ST001</td>\n",
       "      <td>ST011</td>\n",
       "      <td>ST501</td>\n",
       "    </tr>\n",
       "    <tr>\n",
       "      <th>Status</th>\n",
       "      <td>C</td>\n",
       "      <td>C</td>\n",
       "      <td>R</td>\n",
       "      <td>M</td>\n",
       "      <td>C</td>\n",
       "    </tr>\n",
       "    <tr>\n",
       "      <th>Order Date</th>\n",
       "      <td>9/23/2018</td>\n",
       "      <td>11/7/2020</td>\n",
       "      <td>11/23/2014</td>\n",
       "      <td>10/8/2016</td>\n",
       "      <td>3/8/2019</td>\n",
       "    </tr>\n",
       "    <tr>\n",
       "      <th>Last Ship Date</th>\n",
       "      <td>9/24/2018</td>\n",
       "      <td>12/8/2020</td>\n",
       "      <td>11/24/2014</td>\n",
       "      <td>11/11/2016</td>\n",
       "      <td>4/30/2019</td>\n",
       "    </tr>\n",
       "    <tr>\n",
       "      <th># Shipments</th>\n",
       "      <td>1</td>\n",
       "      <td>2</td>\n",
       "      <td>1</td>\n",
       "      <td>1</td>\n",
       "      <td>1</td>\n",
       "    </tr>\n",
       "    <tr>\n",
       "      <th># SKUs Shipped</th>\n",
       "      <td>2</td>\n",
       "      <td>3</td>\n",
       "      <td>1</td>\n",
       "      <td>1</td>\n",
       "      <td>6</td>\n",
       "    </tr>\n",
       "    <tr>\n",
       "      <th>$ Shipped</th>\n",
       "      <td>14.93</td>\n",
       "      <td>49.75</td>\n",
       "      <td>4.95</td>\n",
       "      <td>21.0</td>\n",
       "      <td>42.95</td>\n",
       "    </tr>\n",
       "    <tr>\n",
       "      <th># Returned</th>\n",
       "      <td>0</td>\n",
       "      <td>0</td>\n",
       "      <td>0</td>\n",
       "      <td>0</td>\n",
       "      <td>0</td>\n",
       "    </tr>\n",
       "    <tr>\n",
       "      <th>$ Paid</th>\n",
       "      <td>14.93</td>\n",
       "      <td>49.75</td>\n",
       "      <td>4.95</td>\n",
       "      <td>21.00</td>\n",
       "      <td>42.95</td>\n",
       "    </tr>\n",
       "    <tr>\n",
       "      <th>$ Adjustments</th>\n",
       "      <td>0.0</td>\n",
       "      <td>0.0</td>\n",
       "      <td>0.0</td>\n",
       "      <td>0.0</td>\n",
       "      <td>0.0</td>\n",
       "    </tr>\n",
       "    <tr>\n",
       "      <th>$ Due</th>\n",
       "      <td>0.0</td>\n",
       "      <td>0.0</td>\n",
       "      <td>0.0</td>\n",
       "      <td>0.0</td>\n",
       "      <td>0.0</td>\n",
       "    </tr>\n",
       "    <tr>\n",
       "      <th>Upsell</th>\n",
       "      <td>NaN</td>\n",
       "      <td>NaN</td>\n",
       "      <td>NaN</td>\n",
       "      <td>NaN</td>\n",
       "      <td>NaN</td>\n",
       "    </tr>\n",
       "    <tr>\n",
       "      <th>Frequency</th>\n",
       "      <td>3</td>\n",
       "      <td>3</td>\n",
       "      <td>3</td>\n",
       "      <td>0</td>\n",
       "      <td>4</td>\n",
       "    </tr>\n",
       "    <tr>\n",
       "      <th>Dun Level</th>\n",
       "      <td>0.0</td>\n",
       "      <td>NaN</td>\n",
       "      <td>0.0</td>\n",
       "      <td>0.0</td>\n",
       "      <td>NaN</td>\n",
       "    </tr>\n",
       "    <tr>\n",
       "      <th>Last Payment</th>\n",
       "      <td>9/27/2018</td>\n",
       "      <td>12/16/2020</td>\n",
       "      <td>11/26/2014</td>\n",
       "      <td>11/16/2016</td>\n",
       "      <td>5/3/2019</td>\n",
       "    </tr>\n",
       "    <tr>\n",
       "      <th>Payment Type</th>\n",
       "      <td>US Visa</td>\n",
       "      <td>US PayPal(r)</td>\n",
       "      <td>US MasterCard</td>\n",
       "      <td>US Visa</td>\n",
       "      <td>US Visa</td>\n",
       "    </tr>\n",
       "    <tr>\n",
       "      <th>AutoBill</th>\n",
       "      <td>Y</td>\n",
       "      <td>Y</td>\n",
       "      <td>Y</td>\n",
       "      <td>Y</td>\n",
       "      <td>Y</td>\n",
       "    </tr>\n",
       "    <tr>\n",
       "      <th>Last Statement</th>\n",
       "      <td>NaN</td>\n",
       "      <td>NaN</td>\n",
       "      <td>NaN</td>\n",
       "      <td>NaN</td>\n",
       "      <td>NaN</td>\n",
       "    </tr>\n",
       "    <tr>\n",
       "      <th>Cancel Date</th>\n",
       "      <td>10/16/2018</td>\n",
       "      <td>12/10/2020</td>\n",
       "      <td>2/16/2015</td>\n",
       "      <td>NaN</td>\n",
       "      <td>5/7/2019</td>\n",
       "    </tr>\n",
       "    <tr>\n",
       "      <th>Cancel Reason</th>\n",
       "      <td>CA99</td>\n",
       "      <td>CA21</td>\n",
       "      <td>CA14</td>\n",
       "      <td>NaN</td>\n",
       "      <td>CA99</td>\n",
       "    </tr>\n",
       "    <tr>\n",
       "      <th>Chargeback</th>\n",
       "      <td></td>\n",
       "      <td></td>\n",
       "      <td></td>\n",
       "      <td></td>\n",
       "      <td></td>\n",
       "    </tr>\n",
       "    <tr>\n",
       "      <th># Declined</th>\n",
       "      <td>2</td>\n",
       "      <td>0</td>\n",
       "      <td>16</td>\n",
       "      <td>0</td>\n",
       "      <td>0</td>\n",
       "    </tr>\n",
       "    <tr>\n",
       "      <th>Intro $</th>\n",
       "      <td>$0.00</td>\n",
       "      <td>$0.00</td>\n",
       "      <td>$0.00</td>\n",
       "      <td>$0.00</td>\n",
       "      <td>$0.00</td>\n",
       "    </tr>\n",
       "    <tr>\n",
       "      <th>Intro S&amp;H $</th>\n",
       "      <td>$0.00</td>\n",
       "      <td>$0.00</td>\n",
       "      <td>$0.00</td>\n",
       "      <td>$0.00</td>\n",
       "      <td>$0.00</td>\n",
       "    </tr>\n",
       "    <tr>\n",
       "      <th>Quantity</th>\n",
       "      <td>2</td>\n",
       "      <td>2</td>\n",
       "      <td>2</td>\n",
       "      <td>1</td>\n",
       "      <td>2</td>\n",
       "    </tr>\n",
       "    <tr>\n",
       "      <th>Back Ordered</th>\n",
       "      <td>N</td>\n",
       "      <td>Y</td>\n",
       "      <td>N</td>\n",
       "      <td>N</td>\n",
       "      <td>N</td>\n",
       "    </tr>\n",
       "    <tr>\n",
       "      <th>State</th>\n",
       "      <td>UT</td>\n",
       "      <td>IA</td>\n",
       "      <td>TX</td>\n",
       "      <td>IL</td>\n",
       "      <td>WI</td>\n",
       "    </tr>\n",
       "    <tr>\n",
       "      <th></th>\n",
       "      <td></td>\n",
       "      <td></td>\n",
       "      <td></td>\n",
       "      <td></td>\n",
       "      <td></td>\n",
       "    </tr>\n",
       "    <tr>\n",
       "      <th>Unnamed: 31</th>\n",
       "      <td>NaN</td>\n",
       "      <td>NaN</td>\n",
       "      <td>NaN</td>\n",
       "      <td>NaN</td>\n",
       "      <td>NaN</td>\n",
       "    </tr>\n",
       "    <tr>\n",
       "      <th>Unnamed: 32</th>\n",
       "      <td>NaN</td>\n",
       "      <td>NaN</td>\n",
       "      <td>NaN</td>\n",
       "      <td>NaN</td>\n",
       "      <td>NaN</td>\n",
       "    </tr>\n",
       "  </tbody>\n",
       "</table>\n",
       "</div>"
      ],
      "text/plain": [
       "                                     9089                       34016  \\\n",
       "Subscription ID                26581600001                37562270001   \n",
       "Collection             Star Trek Starships        Star Trek Starships   \n",
       "Source                         ST022FBR8AN                  ST052FBD0   \n",
       "Offer                                ST022                      ST052   \n",
       "Status                                   C                          C   \n",
       "Order Date                       9/23/2018                  11/7/2020   \n",
       "Last Ship Date                   9/24/2018                  12/8/2020   \n",
       "# Shipments                              1                          2   \n",
       "# SKUs Shipped                           2                          3   \n",
       "$ Shipped                            14.93                      49.75   \n",
       "# Returned                               0                          0   \n",
       "$ Paid                               14.93                      49.75   \n",
       "$ Adjustments                          0.0                        0.0   \n",
       "$ Due                                  0.0                        0.0   \n",
       "Upsell                                 NaN                        NaN   \n",
       "Frequency                                3                          3   \n",
       "Dun Level                              0.0                        NaN   \n",
       "Last Payment                     9/27/2018                 12/16/2020   \n",
       "Payment Type     US Visa                    US PayPal(r)                \n",
       "AutoBill                                 Y                          Y   \n",
       "Last Statement                         NaN                        NaN   \n",
       "Cancel Date                     10/16/2018                 12/10/2020   \n",
       "Cancel Reason                         CA99                       CA21   \n",
       "Chargeback                                                              \n",
       "# Declined                               2                          0   \n",
       "Intro $                             $0.00                      $0.00    \n",
       "Intro S&H $                         $0.00                      $0.00    \n",
       "Quantity                                 2                          2   \n",
       "Back Ordered                             N                          Y   \n",
       "State                                   UT                         IA   \n",
       "                                                                        \n",
       "Unnamed: 31                            NaN                        NaN   \n",
       "Unnamed: 32                            NaN                        NaN   \n",
       "\n",
       "                                     1049                       10257  \\\n",
       "Subscription ID                10985490001                27266390001   \n",
       "Collection             Star Trek Starships        Star Trek Starships   \n",
       "Source                         ST001CCK0AN                ST011WPFGAN   \n",
       "Offer                                ST001                      ST011   \n",
       "Status                                   R                          M   \n",
       "Order Date                      11/23/2014                  10/8/2016   \n",
       "Last Ship Date                  11/24/2014                 11/11/2016   \n",
       "# Shipments                              1                          1   \n",
       "# SKUs Shipped                           1                          1   \n",
       "$ Shipped                             4.95                       21.0   \n",
       "# Returned                               0                          0   \n",
       "$ Paid                                4.95                      21.00   \n",
       "$ Adjustments                          0.0                        0.0   \n",
       "$ Due                                  0.0                        0.0   \n",
       "Upsell                                 NaN                        NaN   \n",
       "Frequency                                3                          0   \n",
       "Dun Level                              0.0                        0.0   \n",
       "Last Payment                    11/26/2014                 11/16/2016   \n",
       "Payment Type     US MasterCard              US Visa                     \n",
       "AutoBill                                 Y                          Y   \n",
       "Last Statement                         NaN                        NaN   \n",
       "Cancel Date                      2/16/2015                        NaN   \n",
       "Cancel Reason                         CA14                        NaN   \n",
       "Chargeback                                                              \n",
       "# Declined                              16                          0   \n",
       "Intro $                             $0.00                      $0.00    \n",
       "Intro S&H $                         $0.00                      $0.00    \n",
       "Quantity                                 2                          1   \n",
       "Back Ordered                             N                          N   \n",
       "State                                   TX                         IL   \n",
       "                                                                        \n",
       "Unnamed: 31                            NaN                        NaN   \n",
       "Unnamed: 32                            NaN                        NaN   \n",
       "\n",
       "                                     10948  \n",
       "Subscription ID                27765480501  \n",
       "Collection             Star Trek Starships  \n",
       "Source                         ST510WPIEAN  \n",
       "Offer                                ST501  \n",
       "Status                                   C  \n",
       "Order Date                        3/8/2019  \n",
       "Last Ship Date                   4/30/2019  \n",
       "# Shipments                              1  \n",
       "# SKUs Shipped                           6  \n",
       "$ Shipped                            42.95  \n",
       "# Returned                               0  \n",
       "$ Paid                               42.95  \n",
       "$ Adjustments                          0.0  \n",
       "$ Due                                  0.0  \n",
       "Upsell                                 NaN  \n",
       "Frequency                                4  \n",
       "Dun Level                              NaN  \n",
       "Last Payment                      5/3/2019  \n",
       "Payment Type     US Visa                    \n",
       "AutoBill                                 Y  \n",
       "Last Statement                         NaN  \n",
       "Cancel Date                       5/7/2019  \n",
       "Cancel Reason                         CA99  \n",
       "Chargeback                                  \n",
       "# Declined                               0  \n",
       "Intro $                             $0.00   \n",
       "Intro S&H $                         $0.00   \n",
       "Quantity                                 2  \n",
       "Back Ordered                             N  \n",
       "State                                   WI  \n",
       "                                            \n",
       "Unnamed: 31                            NaN  \n",
       "Unnamed: 32                            NaN  "
      ]
     },
     "execution_count": 2,
     "metadata": {},
     "output_type": "execute_result"
    }
   ],
   "source": [
    "df = pd.read_csv(r\"C:\\Users\\anzhali\\Downloads\\filesel20220210083224.csv.csv\", dtype={'$ Paid': str})\n",
    "print(df.shape)\n",
    "print(list(df))\n",
    "df[['$ Shipped', '$ Adjustments', '$ Due']] = df[['$ Shipped', '$ Adjustments', '$ Due']].astype(str)\n",
    "df.sample(5).transpose()"
   ]
  },
  {
   "cell_type": "code",
   "execution_count": 3,
   "id": "6c5dcb66",
   "metadata": {},
   "outputs": [
    {
     "name": "stdout",
     "output_type": "stream",
     "text": [
      "<class 'pandas.core.frame.DataFrame'>\n",
      "RangeIndex: 35052 entries, 0 to 35051\n",
      "Data columns (total 33 columns):\n",
      " #   Column           Non-Null Count  Dtype  \n",
      "---  ------           --------------  -----  \n",
      " 0   Subscription ID  35052 non-null  int64  \n",
      " 1   Collection       35052 non-null  object \n",
      " 2   Source           35052 non-null  object \n",
      " 3   Offer            34167 non-null  object \n",
      " 4   Status           31812 non-null  object \n",
      " 5   Order Date       35052 non-null  object \n",
      " 6   Last Ship Date   32193 non-null  object \n",
      " 7   # Shipments      35052 non-null  int64  \n",
      " 8   # SKUs Shipped   35052 non-null  int64  \n",
      " 9   $ Shipped        35052 non-null  object \n",
      " 10  # Returned       35052 non-null  int64  \n",
      " 11  $ Paid           35052 non-null  object \n",
      " 12  $ Adjustments    35052 non-null  object \n",
      " 13  $ Due            35052 non-null  object \n",
      " 14  Upsell           249 non-null    object \n",
      " 15  Frequency        35052 non-null  int64  \n",
      " 16  Dun Level        21222 non-null  float64\n",
      " 17  Last Payment     30518 non-null  object \n",
      " 18  Payment Type     35052 non-null  object \n",
      " 19  AutoBill         29210 non-null  object \n",
      " 20  Last Statement   294 non-null    object \n",
      " 21  Cancel Date      31028 non-null  object \n",
      " 22  Cancel Reason    28706 non-null  object \n",
      " 23  Chargeback       35052 non-null  object \n",
      " 24  # Declined       35052 non-null  int64  \n",
      " 25  Intro $          35052 non-null  object \n",
      " 26  Intro S&H $      35052 non-null  object \n",
      " 27  Quantity         35052 non-null  int64  \n",
      " 28  Back Ordered     35052 non-null  object \n",
      " 29  State            35051 non-null  object \n",
      " 30                   35051 non-null  object \n",
      " 31  Unnamed: 31      0 non-null      float64\n",
      " 32  Unnamed: 32      1 non-null      object \n",
      "dtypes: float64(2), int64(7), object(24)\n",
      "memory usage: 8.8+ MB\n"
     ]
    }
   ],
   "source": [
    "df.info()"
   ]
  },
  {
   "cell_type": "markdown",
   "id": "b2fd9045",
   "metadata": {},
   "source": [
    "Data preparation for future analysis "
   ]
  },
  {
   "cell_type": "code",
   "execution_count": 4,
   "id": "170a71fc",
   "metadata": {},
   "outputs": [],
   "source": [
    "df['$ Paid'] = df['$ Paid'].map(lambda x: x.lstrip('$').rstrip('aAbBcC'))\n",
    "df['$ Shipped'] = df['$ Shipped'].map(lambda x: x.lstrip('$').rstrip('aAbBcC'))\n",
    "df['$ Adjustments'] = df['$ Adjustments'].map(lambda x: x.lstrip('$').rstrip('aAbBcC'))\n",
    "df['$ Due'] = df['$ Due'].map(lambda x: x.lstrip('$').rstrip('aAbBcC'))"
   ]
  },
  {
   "cell_type": "code",
   "execution_count": 5,
   "id": "60b8292e",
   "metadata": {
    "scrolled": true
   },
   "outputs": [
    {
     "name": "stderr",
     "output_type": "stream",
     "text": [
      "C:\\Users\\anzhali\\AppData\\Local\\Temp/ipykernel_22316/2711854551.py:1: FutureWarning: The default value of regex will change from True to False in a future version. In addition, single character regular expressions will *not* be treated as literal strings when regex=True.\n",
      "  df['$ Paid'] = df['$ Paid'].str.replace(',','').str.replace('$','').astype('float')\n",
      "C:\\Users\\anzhali\\AppData\\Local\\Temp/ipykernel_22316/2711854551.py:2: FutureWarning: The default value of regex will change from True to False in a future version. In addition, single character regular expressions will *not* be treated as literal strings when regex=True.\n",
      "  df['$ Shipped'] = df['$ Shipped'].str.replace(',','').str.replace('$','').astype('float')\n",
      "C:\\Users\\anzhali\\AppData\\Local\\Temp/ipykernel_22316/2711854551.py:3: FutureWarning: The default value of regex will change from True to False in a future version. In addition, single character regular expressions will *not* be treated as literal strings when regex=True.\n",
      "  df['$ Adjustments'] = df['$ Adjustments'].str.replace(',','').str.replace('$','').astype('float')\n",
      "C:\\Users\\anzhali\\AppData\\Local\\Temp/ipykernel_22316/2711854551.py:4: FutureWarning: The default value of regex will change from True to False in a future version. In addition, single character regular expressions will *not* be treated as literal strings when regex=True.\n",
      "  df['$ Due'] = df['$ Due'].str.replace(',','').str.replace('$','').astype('float')\n"
     ]
    }
   ],
   "source": [
    "df['$ Paid'] = df['$ Paid'].str.replace(',','').str.replace('$','').astype('float')\n",
    "df['$ Shipped'] = df['$ Shipped'].str.replace(',','').str.replace('$','').astype('float')\n",
    "df['$ Adjustments'] = df['$ Adjustments'].str.replace(',','').str.replace('$','').astype('float')\n",
    "df['$ Due'] = df['$ Due'].str.replace(',','').str.replace('$','').astype('float')"
   ]
  },
  {
   "cell_type": "code",
   "execution_count": null,
   "id": "de845776",
   "metadata": {},
   "outputs": [],
   "source": []
  },
  {
   "cell_type": "markdown",
   "id": "6d610ec9",
   "metadata": {},
   "source": [
    "i. The average revenue per subscriber (in USD)"
   ]
  },
  {
   "cell_type": "code",
   "execution_count": 6,
   "id": "7f834749",
   "metadata": {},
   "outputs": [
    {
     "data": {
      "text/plain": [
       "mean    537.401603\n",
       "Name: $ Paid, dtype: float64"
      ]
     },
     "execution_count": 6,
     "metadata": {},
     "output_type": "execute_result"
    }
   ],
   "source": [
    "df['$ Paid'].agg(['mean'])"
   ]
  },
  {
   "cell_type": "markdown",
   "id": "be0173cf",
   "metadata": {},
   "source": [
    "Average revenue per subscriber is 537 $"
   ]
  },
  {
   "cell_type": "code",
   "execution_count": null,
   "id": "1493887f",
   "metadata": {},
   "outputs": [],
   "source": []
  },
  {
   "cell_type": "markdown",
   "id": "cc9a4f99",
   "metadata": {},
   "source": [
    "ii. The median refund per subscriber (in USD)"
   ]
  },
  {
   "cell_type": "code",
   "execution_count": 7,
   "id": "dda2226e",
   "metadata": {},
   "outputs": [
    {
     "data": {
      "text/plain": [
       "mean    1.457555\n",
       "Name: $ Adjustments, dtype: float64"
      ]
     },
     "execution_count": 7,
     "metadata": {},
     "output_type": "execute_result"
    }
   ],
   "source": [
    "df['$ Adjustments'].agg(['mean'])"
   ]
  },
  {
   "cell_type": "markdown",
   "id": "baef78ce",
   "metadata": {},
   "source": [
    "Median refund per subscriber is 1.45 $"
   ]
  },
  {
   "cell_type": "code",
   "execution_count": null,
   "id": "31714770",
   "metadata": {},
   "outputs": [],
   "source": []
  },
  {
   "cell_type": "markdown",
   "id": "c1ab54a5",
   "metadata": {},
   "source": [
    "iii. The offer code that generates the most revenue"
   ]
  },
  {
   "cell_type": "code",
   "execution_count": 8,
   "id": "9d41a67a",
   "metadata": {},
   "outputs": [],
   "source": [
    "k = df[['Offer', '$ Paid']].groupby(['Offer']).agg(['sum'])\n"
   ]
  },
  {
   "cell_type": "code",
   "execution_count": 9,
   "id": "644ada38",
   "metadata": {},
   "outputs": [
    {
     "data": {
      "text/plain": [
       "$ Paid  sum    7901802.05\n",
       "dtype: float64"
      ]
     },
     "execution_count": 9,
     "metadata": {},
     "output_type": "execute_result"
    }
   ],
   "source": [
    "k.max()"
   ]
  },
  {
   "cell_type": "markdown",
   "id": "b761b6af",
   "metadata": {},
   "source": [
    "The offer code that generated most revenue is ST007 with revenue of 7,901,802 $"
   ]
  },
  {
   "cell_type": "code",
   "execution_count": null,
   "id": "26d0458c",
   "metadata": {},
   "outputs": [],
   "source": []
  },
  {
   "cell_type": "markdown",
   "id": "0898b524",
   "metadata": {},
   "source": [
    "iv. The % cancellation rate for the whole collection"
   ]
  },
  {
   "cell_type": "code",
   "execution_count": 10,
   "id": "412c173e",
   "metadata": {},
   "outputs": [
    {
     "data": {
      "text/html": [
       "<div>\n",
       "<style scoped>\n",
       "    .dataframe tbody tr th:only-of-type {\n",
       "        vertical-align: middle;\n",
       "    }\n",
       "\n",
       "    .dataframe tbody tr th {\n",
       "        vertical-align: top;\n",
       "    }\n",
       "\n",
       "    .dataframe thead tr th {\n",
       "        text-align: left;\n",
       "    }\n",
       "\n",
       "    .dataframe thead tr:last-of-type th {\n",
       "        text-align: right;\n",
       "    }\n",
       "</style>\n",
       "<table border=\"1\" class=\"dataframe\">\n",
       "  <thead>\n",
       "    <tr>\n",
       "      <th></th>\n",
       "      <th>Subscription ID</th>\n",
       "      <th>Collection</th>\n",
       "      <th>Source</th>\n",
       "      <th>Offer</th>\n",
       "      <th>Order Date</th>\n",
       "      <th>Last Ship Date</th>\n",
       "      <th># Shipments</th>\n",
       "      <th># SKUs Shipped</th>\n",
       "      <th>$ Shipped</th>\n",
       "      <th># Returned</th>\n",
       "      <th>...</th>\n",
       "      <th>Chargeback</th>\n",
       "      <th># Declined</th>\n",
       "      <th>Intro $</th>\n",
       "      <th>Intro S&amp;H $</th>\n",
       "      <th>Quantity</th>\n",
       "      <th>Back Ordered</th>\n",
       "      <th>State</th>\n",
       "      <th></th>\n",
       "      <th>Unnamed: 31</th>\n",
       "      <th>Unnamed: 32</th>\n",
       "    </tr>\n",
       "    <tr>\n",
       "      <th></th>\n",
       "      <th>count</th>\n",
       "      <th>count</th>\n",
       "      <th>count</th>\n",
       "      <th>count</th>\n",
       "      <th>count</th>\n",
       "      <th>count</th>\n",
       "      <th>count</th>\n",
       "      <th>count</th>\n",
       "      <th>count</th>\n",
       "      <th>count</th>\n",
       "      <th>...</th>\n",
       "      <th>count</th>\n",
       "      <th>count</th>\n",
       "      <th>count</th>\n",
       "      <th>count</th>\n",
       "      <th>count</th>\n",
       "      <th>count</th>\n",
       "      <th>count</th>\n",
       "      <th>count</th>\n",
       "      <th>count</th>\n",
       "      <th>count</th>\n",
       "    </tr>\n",
       "    <tr>\n",
       "      <th>Status</th>\n",
       "      <th></th>\n",
       "      <th></th>\n",
       "      <th></th>\n",
       "      <th></th>\n",
       "      <th></th>\n",
       "      <th></th>\n",
       "      <th></th>\n",
       "      <th></th>\n",
       "      <th></th>\n",
       "      <th></th>\n",
       "      <th></th>\n",
       "      <th></th>\n",
       "      <th></th>\n",
       "      <th></th>\n",
       "      <th></th>\n",
       "      <th></th>\n",
       "      <th></th>\n",
       "      <th></th>\n",
       "      <th></th>\n",
       "      <th></th>\n",
       "      <th></th>\n",
       "    </tr>\n",
       "  </thead>\n",
       "  <tbody>\n",
       "    <tr>\n",
       "      <th>C</th>\n",
       "      <td>25757</td>\n",
       "      <td>25757</td>\n",
       "      <td>25757</td>\n",
       "      <td>24872</td>\n",
       "      <td>25757</td>\n",
       "      <td>23193</td>\n",
       "      <td>25757</td>\n",
       "      <td>25757</td>\n",
       "      <td>25757</td>\n",
       "      <td>25757</td>\n",
       "      <td>...</td>\n",
       "      <td>25757</td>\n",
       "      <td>25757</td>\n",
       "      <td>25757</td>\n",
       "      <td>25757</td>\n",
       "      <td>25757</td>\n",
       "      <td>25757</td>\n",
       "      <td>25756</td>\n",
       "      <td>25756</td>\n",
       "      <td>0</td>\n",
       "      <td>1</td>\n",
       "    </tr>\n",
       "    <tr>\n",
       "      <th>E</th>\n",
       "      <td>1</td>\n",
       "      <td>1</td>\n",
       "      <td>1</td>\n",
       "      <td>1</td>\n",
       "      <td>1</td>\n",
       "      <td>1</td>\n",
       "      <td>1</td>\n",
       "      <td>1</td>\n",
       "      <td>1</td>\n",
       "      <td>1</td>\n",
       "      <td>...</td>\n",
       "      <td>1</td>\n",
       "      <td>1</td>\n",
       "      <td>1</td>\n",
       "      <td>1</td>\n",
       "      <td>1</td>\n",
       "      <td>1</td>\n",
       "      <td>1</td>\n",
       "      <td>1</td>\n",
       "      <td>0</td>\n",
       "      <td>0</td>\n",
       "    </tr>\n",
       "    <tr>\n",
       "      <th>M</th>\n",
       "      <td>572</td>\n",
       "      <td>572</td>\n",
       "      <td>572</td>\n",
       "      <td>572</td>\n",
       "      <td>572</td>\n",
       "      <td>572</td>\n",
       "      <td>572</td>\n",
       "      <td>572</td>\n",
       "      <td>572</td>\n",
       "      <td>572</td>\n",
       "      <td>...</td>\n",
       "      <td>572</td>\n",
       "      <td>572</td>\n",
       "      <td>572</td>\n",
       "      <td>572</td>\n",
       "      <td>572</td>\n",
       "      <td>572</td>\n",
       "      <td>572</td>\n",
       "      <td>572</td>\n",
       "      <td>0</td>\n",
       "      <td>0</td>\n",
       "    </tr>\n",
       "    <tr>\n",
       "      <th>R</th>\n",
       "      <td>5069</td>\n",
       "      <td>5069</td>\n",
       "      <td>5069</td>\n",
       "      <td>5069</td>\n",
       "      <td>5069</td>\n",
       "      <td>4928</td>\n",
       "      <td>5069</td>\n",
       "      <td>5069</td>\n",
       "      <td>5069</td>\n",
       "      <td>5069</td>\n",
       "      <td>...</td>\n",
       "      <td>5069</td>\n",
       "      <td>5069</td>\n",
       "      <td>5069</td>\n",
       "      <td>5069</td>\n",
       "      <td>5069</td>\n",
       "      <td>5069</td>\n",
       "      <td>5069</td>\n",
       "      <td>5069</td>\n",
       "      <td>0</td>\n",
       "      <td>0</td>\n",
       "    </tr>\n",
       "    <tr>\n",
       "      <th>S</th>\n",
       "      <td>169</td>\n",
       "      <td>169</td>\n",
       "      <td>169</td>\n",
       "      <td>169</td>\n",
       "      <td>169</td>\n",
       "      <td>166</td>\n",
       "      <td>169</td>\n",
       "      <td>169</td>\n",
       "      <td>169</td>\n",
       "      <td>169</td>\n",
       "      <td>...</td>\n",
       "      <td>169</td>\n",
       "      <td>169</td>\n",
       "      <td>169</td>\n",
       "      <td>169</td>\n",
       "      <td>169</td>\n",
       "      <td>169</td>\n",
       "      <td>169</td>\n",
       "      <td>169</td>\n",
       "      <td>0</td>\n",
       "      <td>0</td>\n",
       "    </tr>\n",
       "    <tr>\n",
       "      <th>W</th>\n",
       "      <td>244</td>\n",
       "      <td>244</td>\n",
       "      <td>244</td>\n",
       "      <td>244</td>\n",
       "      <td>244</td>\n",
       "      <td>244</td>\n",
       "      <td>244</td>\n",
       "      <td>244</td>\n",
       "      <td>244</td>\n",
       "      <td>244</td>\n",
       "      <td>...</td>\n",
       "      <td>244</td>\n",
       "      <td>244</td>\n",
       "      <td>244</td>\n",
       "      <td>244</td>\n",
       "      <td>244</td>\n",
       "      <td>244</td>\n",
       "      <td>244</td>\n",
       "      <td>244</td>\n",
       "      <td>0</td>\n",
       "      <td>0</td>\n",
       "    </tr>\n",
       "  </tbody>\n",
       "</table>\n",
       "<p>6 rows × 32 columns</p>\n",
       "</div>"
      ],
      "text/plain": [
       "       Subscription ID Collection Source  Offer Order Date Last Ship Date  \\\n",
       "                 count      count  count  count      count          count   \n",
       "Status                                                                      \n",
       "C                25757      25757  25757  24872      25757          23193   \n",
       "E                    1          1      1      1          1              1   \n",
       "M                  572        572    572    572        572            572   \n",
       "R                 5069       5069   5069   5069       5069           4928   \n",
       "S                  169        169    169    169        169            166   \n",
       "W                  244        244    244    244        244            244   \n",
       "\n",
       "       # Shipments # SKUs Shipped $ Shipped # Returned  ... Chargeback  \\\n",
       "             count          count     count      count  ...      count   \n",
       "Status                                                  ...              \n",
       "C            25757          25757     25757      25757  ...      25757   \n",
       "E                1              1         1          1  ...          1   \n",
       "M              572            572       572        572  ...        572   \n",
       "R             5069           5069      5069       5069  ...       5069   \n",
       "S              169            169       169        169  ...        169   \n",
       "W              244            244       244        244  ...        244   \n",
       "\n",
       "       # Declined Intro $ Intro S&H $ Quantity Back Ordered  State         \\\n",
       "            count   count       count    count        count  count  count   \n",
       "Status                                                                      \n",
       "C           25757   25757       25757    25757        25757  25756  25756   \n",
       "E               1       1           1        1            1      1      1   \n",
       "M             572     572         572      572          572    572    572   \n",
       "R            5069    5069        5069     5069         5069   5069   5069   \n",
       "S             169     169         169      169          169    169    169   \n",
       "W             244     244         244      244          244    244    244   \n",
       "\n",
       "       Unnamed: 31 Unnamed: 32  \n",
       "             count       count  \n",
       "Status                          \n",
       "C                0           1  \n",
       "E                0           0  \n",
       "M                0           0  \n",
       "R                0           0  \n",
       "S                0           0  \n",
       "W                0           0  \n",
       "\n",
       "[6 rows x 32 columns]"
      ]
     },
     "execution_count": 10,
     "metadata": {},
     "output_type": "execute_result"
    }
   ],
   "source": [
    "df.groupby(['Status']).agg(['count'])"
   ]
  },
  {
   "cell_type": "code",
   "execution_count": 11,
   "id": "bb1a3eae",
   "metadata": {},
   "outputs": [
    {
     "data": {
      "text/plain": [
       "73.48225493552437"
      ]
     },
     "execution_count": 11,
     "metadata": {},
     "output_type": "execute_result"
    }
   ],
   "source": [
    "cancellation_rate = (25757 * 100) / 35052\n",
    "cancellation_rate"
   ]
  },
  {
   "cell_type": "markdown",
   "id": "a72aaefd",
   "metadata": {},
   "source": [
    "Cancelation rate for the whole collection is 73.48 %"
   ]
  },
  {
   "cell_type": "code",
   "execution_count": null,
   "id": "a8d6c5c9",
   "metadata": {},
   "outputs": [],
   "source": []
  },
  {
   "cell_type": "markdown",
   "id": "d4d3935a",
   "metadata": {},
   "source": [
    "They believe that backorders (i.e. orders on hold due to out-of-stock items) are causing\n",
    "cancelations on this subscription program. Using the dataset and the statistical method of your\n",
    "choice, determine whether there is a “link” (to be defined as you please, e.g. correlation)\n",
    "between backorders (column AK ‘Back Ordered’ = Y) and cancelations (column E ‘Status’ = C)."
   ]
  },
  {
   "cell_type": "markdown",
   "id": "07d923a2",
   "metadata": {},
   "source": [
    "Transforming variable to numerical values in order to perform correlation tests.\n"
   ]
  },
  {
   "cell_type": "code",
   "execution_count": 12,
   "id": "e3bdb8dc",
   "metadata": {},
   "outputs": [],
   "source": [
    "df['cancelled'] = df['Status'] == 'C'\n",
    "df['b_ordered'] = df['Back Ordered'] == 'Y'"
   ]
  },
  {
   "cell_type": "code",
   "execution_count": 13,
   "id": "8806f0b6",
   "metadata": {},
   "outputs": [
    {
     "data": {
      "text/plain": [
       "True     25757\n",
       "False     9295\n",
       "Name: cancelled, dtype: int64"
      ]
     },
     "execution_count": 13,
     "metadata": {},
     "output_type": "execute_result"
    }
   ],
   "source": [
    "df['cancelled'].value_counts()"
   ]
  },
  {
   "cell_type": "code",
   "execution_count": 14,
   "id": "90769070",
   "metadata": {},
   "outputs": [],
   "source": [
    "%matplotlib inline\n",
    "\n",
    "import pandas as pd\n",
    "import seaborn as sb\n",
    "import numpy as np\n",
    "import statsmodels.api as sm\n",
    "from sklearn.linear_model import LogisticRegression\n",
    "from sklearn import preprocessing\n",
    "import matplotlib.pyplot as plt\n",
    "from statsmodels.stats.outliers_influence import variance_inflation_factor\n",
    "from sklearn.metrics import classification_report\n",
    "from sklearn.metrics import roc_curve, confusion_matrix\n"
   ]
  },
  {
   "cell_type": "markdown",
   "id": "eb3cde23",
   "metadata": {},
   "source": [
    "I am going to calculate covarience first and see if there any positive or negative relationship between variables."
   ]
  },
  {
   "cell_type": "code",
   "execution_count": 15,
   "id": "c205a45a",
   "metadata": {},
   "outputs": [
    {
     "name": "stdout",
     "output_type": "stream",
     "text": [
      "[[0.19486393 0.0986607 ]\n",
      " [0.0986607  0.24249996]]\n"
     ]
    }
   ],
   "source": [
    "from numpy.random import randn\n",
    "from numpy.random import seed\n",
    "from numpy import cov\n",
    "# seed random number generator\n",
    "seed(1)\n",
    "# prepare data\n",
    "data1 = df['cancelled']\n",
    "data2 = df['b_ordered']\n",
    "# calculate covariance matrix\n",
    "covariance = cov(data1, data2)\n",
    "print(covariance)"
   ]
  },
  {
   "cell_type": "markdown",
   "id": "9725e813",
   "metadata": {},
   "source": [
    "Covarience of 0.098 shows that there is a positive relation between 2 variable, in other words variable change in the same direction. I will calculate correlation now to better estimate level of dependance.\n"
   ]
  },
  {
   "cell_type": "code",
   "execution_count": 16,
   "id": "1e5384f7",
   "metadata": {},
   "outputs": [
    {
     "name": "stdout",
     "output_type": "stream",
     "text": [
      "Pearsons correlation: 0.454\n"
     ]
    }
   ],
   "source": [
    "from numpy.random import randn\n",
    "from numpy.random import seed\n",
    "from scipy.stats import pearsonr\n",
    "# seed random number generator\n",
    "seed(1)\n",
    "# prepare data\n",
    "data1 = df['cancelled']\n",
    "data2 = df['b_ordered']\n",
    "# calculate Pearson's correlation\n",
    "corr, _ = pearsonr(data1, data2)\n",
    "print('Pearsons correlation: %.3f' % corr)"
   ]
  },
  {
   "cell_type": "markdown",
   "id": "4f0b7799",
   "metadata": {},
   "source": [
    "Indeed, these 2 variable have high positive correlation between each other - whenever order is cancelled there is a high chance it was back ordered as well.\n"
   ]
  },
  {
   "cell_type": "code",
   "execution_count": 17,
   "id": "cbe2d2f8",
   "metadata": {
    "scrolled": true
   },
   "outputs": [
    {
     "data": {
      "text/plain": [
       "Text(0, 0.5, 'Frequency')"
      ]
     },
     "execution_count": 17,
     "metadata": {},
     "output_type": "execute_result"
    },
    {
     "data": {
      "image/png": "[encoded data removed]",
      "text/plain": [
       "<Figure size 432x288 with 1 Axes>"
      ]
     },
     "metadata": {
      "needs_background": "light"
     },
     "output_type": "display_data"
    }
   ],
   "source": [
    "pd.crosstab(df['Back Ordered'], df.cancelled).plot(kind='bar')\n",
    "plt.xlabel('Back Ordered')\n",
    "plt.ylabel('Frequency')"
   ]
  },
  {
   "cell_type": "markdown",
   "id": "612a5e0a",
   "metadata": {},
   "source": [
    "This is a visual representation of correlation. Clearly there is a very strong connection between items being cancelled and being back ordered. As we can see from the plot above when the order is cancelled it is back odrered most of the time."
   ]
  },
  {
   "cell_type": "markdown",
   "id": "f359365b",
   "metadata": {},
   "source": [
    "Using the same dataset “filesel20220210083224” and your own understanding of our\n",
    "subscription businesses, explain what additional variables (i.e. other than backorders) would be\n",
    "relevant in analyzing causes for subscriber cancelations. Those can include data listed on the\n",
    "spreadsheet and/or not included in this dataset. \n",
    "\n",
    "Before I do that I will need to break each category into a series of binary features for each of the categorical features I'd like to include.  For continuous features, I'll have to ensure each row I'd like to include has a valid value."
   ]
  },
  {
   "cell_type": "code",
   "execution_count": null,
   "id": "122ea3ca",
   "metadata": {},
   "outputs": [],
   "source": [
    "\n"
   ]
  },
  {
   "cell_type": "code",
   "execution_count": 22,
   "id": "5da0df90",
   "metadata": {},
   "outputs": [],
   "source": [
    "####################################################################        \n",
    "# Categorical features\n",
    "\n",
    "all_features = []\n",
    "categorical_features = ['Offer', 'Payment Type',  'State']\n",
    "top = 10\n",
    "\n",
    "for each_feature in categorical_features:\n",
    "    for f in df[each_feature].value_counts().index[:top].tolist():\n",
    "        df[each_feature+'='+str(f)] = (df[each_feature]==f)*1\n",
    "        all_features.append(each_feature+'='+str(f))\n",
    "\n",
    "        \n",
    "####################################################################        \n",
    " # Adding a constant\n",
    "df['constant'] = 1\n",
    "all_features.append('constant')\n",
    "    \n",
    "    \n"
   ]
  },
  {
   "cell_type": "code",
   "execution_count": 19,
   "id": "69df93c5",
   "metadata": {},
   "outputs": [],
   "source": [
    "%matplotlib inline\n",
    "\n",
    "import pandas as pd\n",
    "import seaborn as sb\n",
    "import numpy as np\n",
    "import statsmodels.api as sm\n",
    "from sklearn.linear_model import LogisticRegression\n",
    "from sklearn import preprocessing\n",
    "import matplotlib.pyplot as plt\n",
    "from statsmodels.stats.outliers_influence import variance_inflation_factor\n",
    "from sklearn.metrics import classification_report\n",
    "from sklearn.metrics import roc_curve, confusion_matrix"
   ]
  },
  {
   "cell_type": "code",
   "execution_count": 20,
   "id": "bbfd88f1",
   "metadata": {},
   "outputs": [
    {
     "name": "stdout",
     "output_type": "stream",
     "text": [
      "                                 cancelled         VIF\n",
      "0                              Offer=ST501    2.213209\n",
      "1                              Offer=ST007    2.223555\n",
      "2                              Offer=ST010    1.509465\n",
      "3                              Offer=ST008    1.462485\n",
      "4                              Offer=ST001    1.424609\n",
      "5                              Offer=ST012    1.184983\n",
      "6                              Offer=ST006    1.154113\n",
      "7                              Offer=ST011    1.092493\n",
      "8                              Offer=ST050    1.150812\n",
      "9                              Offer=ST055    1.134294\n",
      "10  Payment Type=US Visa                     28.533812\n",
      "11        Payment Type=U     -- UNKNOWN **   25.592416\n",
      "12  Payment Type=US MasterCard               16.177681\n",
      "13  Payment Type=Sticky Visa                 14.428257\n",
      "14  Payment Type=US PayPal                   11.813599\n",
      "15  Payment Type=Sticky MasterCard            7.121154\n",
      "16  Payment Type=US American Express          4.485509\n",
      "17  Payment Type=US PayPal(r)                 4.236615\n",
      "18  Payment Type=Sticky Amex                  2.277546\n",
      "19  Payment Type=US Discover                  2.088331\n",
      "20                                State=CA    1.089381\n",
      "21                                State=TX    1.071292\n",
      "22                                State=FL    1.059375\n",
      "23                                State=NY    1.057897\n",
      "24                                State=OH    1.040648\n",
      "25                                State=PA    1.037353\n",
      "26                                State=WA    1.035061\n",
      "27                                State=IL    1.034272\n",
      "28                                State=VA    1.032350\n",
      "29                                State=MI    1.032992\n",
      "30                                constant  139.666417\n"
     ]
    }
   ],
   "source": [
    "from statsmodels.stats.outliers_influence import variance_inflation_factor\n",
    "  \n",
    "\n",
    "  \n",
    "# the independent variables set\n",
    "X = df[all_features]\n",
    "  \n",
    "# VIF dataframe\n",
    "vif_data = pd.DataFrame()\n",
    "vif_data[\"cancelled\"] = X.columns\n",
    "  \n",
    "# calculating VIF for each feature\n",
    "vif_data[\"VIF\"] = [variance_inflation_factor(X.values, i)\n",
    "                          for i in range(len(X.columns))]\n",
    "  \n",
    "print(vif_data)"
   ]
  },
  {
   "cell_type": "markdown",
   "id": "01c26868",
   "metadata": {},
   "source": [
    "Most payment types are highly correlated so I will remove this feature."
   ]
  },
  {
   "cell_type": "code",
   "execution_count": 24,
   "id": "1cbd9feb",
   "metadata": {},
   "outputs": [],
   "source": [
    "all_features = []\n",
    "categorical_features = ['Offer', 'State'] \n",
    "top = 10\n",
    "\n",
    "for each_feature in categorical_features:\n",
    "    for f in df[each_feature].value_counts().index[:top].tolist():\n",
    "        df[each_feature+'='+str(f)] = (df[each_feature]==f)*1\n",
    "        all_features.append(each_feature+'='+str(f))"
   ]
  },
  {
   "cell_type": "code",
   "execution_count": 25,
   "id": "33c1db00",
   "metadata": {},
   "outputs": [
    {
     "name": "stdout",
     "output_type": "stream",
     "text": [
      "      cancelled       VIF\n",
      "0   Offer=ST501  1.242565\n",
      "1   Offer=ST007  1.250872\n",
      "2   Offer=ST010  1.074100\n",
      "3   Offer=ST008  1.078971\n",
      "4   Offer=ST001  1.048992\n",
      "5   Offer=ST012  1.025345\n",
      "6   Offer=ST006  1.016153\n",
      "7   Offer=ST011  1.015891\n",
      "8   Offer=ST050  1.012234\n",
      "9   Offer=ST055  1.011659\n",
      "10     State=CA  1.161018\n",
      "11     State=TX  1.120857\n",
      "12     State=FL  1.100921\n",
      "13     State=NY  1.082540\n",
      "14     State=OH  1.056172\n",
      "15     State=PA  1.054928\n",
      "16     State=WA  1.052746\n",
      "17     State=IL  1.053271\n",
      "18     State=VA  1.048420\n",
      "19     State=MI  1.045908\n"
     ]
    }
   ],
   "source": [
    "# the independent variables set\n",
    "X = df[all_features]\n",
    "  \n",
    "# VIF dataframe\n",
    "vif_data = pd.DataFrame()\n",
    "vif_data[\"cancelled\"] = X.columns\n",
    "  \n",
    "# calculating VIF for each feature\n",
    "vif_data[\"VIF\"] = [variance_inflation_factor(X.values, i)\n",
    "                          for i in range(len(X.columns))]\n",
    "  \n",
    "print(vif_data)"
   ]
  },
  {
   "cell_type": "markdown",
   "id": "9bbf7461",
   "metadata": {},
   "source": [
    "All features are without correlation. Now Iwill explore continuos features. "
   ]
  },
  {
   "cell_type": "code",
   "execution_count": 26,
   "id": "0971c9fc",
   "metadata": {},
   "outputs": [
    {
     "data": {
      "text/plain": [
       "<AxesSubplot:>"
      ]
     },
     "execution_count": 26,
     "metadata": {},
     "output_type": "execute_result"
    },
    {
     "data": {
      "image/png": "[encoded data removed]",
      "text/plain": [
       "<Figure size 432x288 with 1 Axes>"
      ]
     },
     "metadata": {
      "needs_background": "light"
     },
     "output_type": "display_data"
    }
   ],
   "source": [
    "potential_feature = '$ Paid'\n",
    "df.loc[(df['cancelled']==0), potential_feature].hist(bins=20, alpha=.5, density=True, color='blue')\n",
    "df.loc[(df['cancelled']==1), potential_feature].hist(bins=20, alpha=.5, density=True, color='yellow')"
   ]
  },
  {
   "cell_type": "markdown",
   "id": "b2271476",
   "metadata": {},
   "source": [
    "This feature could  be used as well."
   ]
  },
  {
   "cell_type": "code",
   "execution_count": 27,
   "id": "603afb92",
   "metadata": {},
   "outputs": [],
   "source": [
    "continuous_features = ['$ Paid']\n",
    "for each_feature in continuous_features:\n",
    "    all_features.append(each_feature)"
   ]
  },
  {
   "cell_type": "code",
   "execution_count": 28,
   "id": "1ca2ba48",
   "metadata": {},
   "outputs": [],
   "source": [
    "df[\"cancelled\"] = df[\"cancelled\"].astype(int)"
   ]
  },
  {
   "cell_type": "code",
   "execution_count": 29,
   "id": "0a21241f",
   "metadata": {},
   "outputs": [
    {
     "name": "stdout",
     "output_type": "stream",
     "text": [
      "Optimization terminated successfully.\n",
      "         Current function value: 0.520920\n",
      "         Iterations 7\n",
      "                           Logit Regression Results                           \n",
      "==============================================================================\n",
      "Dep. Variable:              cancelled   No. Observations:                35052\n",
      "Model:                          Logit   Df Residuals:                    35031\n",
      "Method:                           MLE   Df Model:                           20\n",
      "Date:                Wed, 23 Mar 2022   Pseudo R-squ.:                 0.09938\n",
      "Time:                        20:06:34   Log-Likelihood:                -18259.\n",
      "converged:                       True   LL-Null:                       -20274.\n",
      "Covariance Type:            nonrobust   LLR p-value:                     0.000\n",
      "===============================================================================\n",
      "                  coef    std err          z      P>|z|      [0.025      0.975]\n",
      "-------------------------------------------------------------------------------\n",
      "Offer=ST501     1.5279      0.029     52.362      0.000       1.471       1.585\n",
      "Offer=ST007     1.6480      0.033     49.995      0.000       1.583       1.713\n",
      "Offer=ST010     0.9778      0.044     22.331      0.000       0.892       1.064\n",
      "Offer=ST008     2.2243      0.059     37.661      0.000       2.109       2.340\n",
      "Offer=ST001     0.8645      0.052     16.502      0.000       0.762       0.967\n",
      "Offer=ST012     0.9886      0.071     13.884      0.000       0.849       1.128\n",
      "Offer=ST006     3.2201      0.212     15.219      0.000       2.805       3.635\n",
      "Offer=ST011    -2.8285      0.172    -16.479      0.000      -3.165      -2.492\n",
      "Offer=ST050     0.8684      0.100      8.692      0.000       0.673       1.064\n",
      "Offer=ST055     0.2342      0.095      2.457      0.014       0.047       0.421\n",
      "State=CA        0.4932      0.045     11.030      0.000       0.406       0.581\n",
      "State=TX        0.4907      0.050      9.764      0.000       0.392       0.589\n",
      "State=FL        0.4399      0.055      7.962      0.000       0.332       0.548\n",
      "State=NY        0.7192      0.060     11.921      0.000       0.601       0.837\n",
      "State=OH        0.3125      0.067      4.645      0.000       0.181       0.444\n",
      "State=PA        0.3845      0.069      5.578      0.000       0.249       0.520\n",
      "State=WA        0.4953      0.074      6.729      0.000       0.351       0.640\n",
      "State=IL        0.2813      0.073      3.864      0.000       0.139       0.424\n",
      "State=VA        0.4232      0.076      5.591      0.000       0.275       0.572\n",
      "State=MI        0.2646      0.075      3.531      0.000       0.118       0.411\n",
      "$ Paid         -0.0009   1.75e-05    -50.388      0.000      -0.001      -0.001\n",
      "===============================================================================\n"
     ]
    }
   ],
   "source": [
    "logit = sm.Logit(df[\"cancelled\"], df[all_features])\n",
    "result = logit.fit()\n",
    "print(result.summary())"
   ]
  },
  {
   "cell_type": "markdown",
   "id": "1fc16e5b",
   "metadata": {},
   "source": [
    "I am also going to take the exponential of each of the coefficients to generate the odds ratios. This tells how a 1 unit increase or decrease in a variable affects the odds of order being 'cancelled'."
   ]
  },
  {
   "cell_type": "code",
   "execution_count": 30,
   "id": "885fe29d",
   "metadata": {},
   "outputs": [
    {
     "data": {
      "text/plain": [
       "Offer=ST501     4.608559\n",
       "Offer=ST007     5.196351\n",
       "Offer=ST010     2.658569\n",
       "Offer=ST008     9.247093\n",
       "Offer=ST001     2.373751\n",
       "Offer=ST012     2.687592\n",
       "Offer=ST006    25.031000\n",
       "Offer=ST011     0.059103\n",
       "Offer=ST050     2.383100\n",
       "Offer=ST055     1.263912\n",
       "State=CA        1.637534\n",
       "State=TX        1.633432\n",
       "State=FL        1.552556\n",
       "State=NY        2.052860\n",
       "State=OH        1.366864\n",
       "State=PA        1.468949\n",
       "State=WA        1.640967\n",
       "State=IL        1.324794\n",
       "State=VA        1.526851\n",
       "State=MI        1.302913\n",
       "$ Paid          0.999120\n",
       "dtype: float64"
      ]
     },
     "execution_count": 30,
     "metadata": {},
     "output_type": "execute_result"
    }
   ],
   "source": [
    "np.exp(result.params)"
   ]
  },
  {
   "cell_type": "markdown",
   "id": "831779ff",
   "metadata": {},
   "source": [
    "A lot of these coefficients are too high so ideally In would exclude some of them. However, teh question was what variable could be used to determine order cancellation and clearly 'Offer', 'State', and 'Paid' variables would be relevent in analizing that. Just to confirm I am going to calculate Logistic regression's accuracy. "
   ]
  },
  {
   "cell_type": "code",
   "execution_count": 31,
   "id": "7b66b789",
   "metadata": {},
   "outputs": [],
   "source": [
    "X = df[all_features].values\n",
    "y = df['cancelled'].values"
   ]
  },
  {
   "cell_type": "code",
   "execution_count": 32,
   "id": "8ee59684",
   "metadata": {},
   "outputs": [
    {
     "name": "stdout",
     "output_type": "stream",
     "text": [
      "The accuracy of our model is 76.8%\n"
     ]
    }
   ],
   "source": [
    "clf = LogisticRegression(random_state=20191016).fit(X, y)\n",
    "print('The accuracy of our model is %0.1f%%' % (clf.score(X, y)*100))"
   ]
  },
  {
   "cell_type": "markdown",
   "id": "8066b43f",
   "metadata": {},
   "source": [
    "Our model accuracy is 76.8 what is concidered acceptable. Therefore, 'Offer', 'State', and 'Paid' variables would be relevent in analizing cancellations. Ideally I would not include all subcategories of them and try to rerun the model again to exclude bias. "
   ]
  },
  {
   "cell_type": "code",
   "execution_count": null,
   "id": "fd6485a5",
   "metadata": {},
   "outputs": [],
   "source": []
  },
  {
   "cell_type": "code",
   "execution_count": null,
   "id": "b04e0fd2",
   "metadata": {},
   "outputs": [],
   "source": []
  }
 ],
 "metadata": {
  "kernelspec": {
   "display_name": "Python 3 (ipykernel)",
   "language": "python",
   "name": "python3"
  },
  "language_info": {
   "codemirror_mode": {
    "name": "ipython",
    "version": 3
   },
   "file_extension": ".py",
   "mimetype": "text/x-python",
   "name": "python",
   "nbconvert_exporter": "python",
   "pygments_lexer": "ipython3",
   "version": "3.9.7"
  }
 },
 "nbformat": 4,
 "nbformat_minor": 5
}
